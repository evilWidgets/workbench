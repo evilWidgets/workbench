{
 "cells": [
  {
   "cell_type": "code",
   "execution_count": 2,
   "id": "b5fca997-c97e-4c5f-bef5-ba5a52d1d143",
   "metadata": {},
   "outputs": [],
   "source": [
    "import orgparse as org \n",
    "import json \n",
    "import uuid \n",
    "import datetime \n"
   ]
  },
  {
   "cell_type": "code",
   "execution_count": 7,
   "id": "362eae60-b6bd-4bc8-9de1-fee01485246d",
   "metadata": {},
   "outputs": [],
   "source": [
    "root = org.load('/home/ben/workbench/org/inbox.org') \n",
    "node = root.children[1] "
   ]
  },
  {
   "cell_type": "code",
   "execution_count": 8,
   "id": "12478071-4fae-4414-876e-c4b811fab01b",
   "metadata": {},
   "outputs": [
    {
     "name": "stdout",
     "output_type": "stream",
     "text": [
      "* TODO [#B] This is another test item :urgent:project:\n",
      ":PROPERTIES:\n",
      ":CREATED: <2025-05-24 Sat>\n",
      ":PRIORITY: CRITICAL\n",
      ":SCHEDULED: <2025-05-24 Sat>\n",
      ":DEADLINE: <2025-05-24 Sat>\n",
      ":END:\n",
      "\n"
     ]
    }
   ],
   "source": [
    "print(node)"
   ]
  },
  {
   "cell_type": "code",
   "execution_count": 16,
   "id": "104ebf5d-eda2-421b-af7c-3030f3f6dfc6",
   "metadata": {},
   "outputs": [
    {
     "name": "stdout",
     "output_type": "stream",
     "text": [
      "* TODO [#A] this is a test item :urgent:project:\n",
      ":PROPERTIES:\n",
      ":CREATED: <2025-05-24 Sat>\n",
      ":PRIORITY: CRITICAL\n",
      ":END:\n",
      "\n",
      "* TODO [#B] This is another test item :urgent:project:\n",
      ":PROPERTIES:\n",
      ":CREATED: <2025-05-24 Sat>\n",
      ":PRIORITY: CRITICAL\n",
      ":SCHEDULED: <2025-05-24 Sat>\n",
      ":DEADLINE: <2025-05-24 Sat>\n",
      ":END:\n",
      "\n"
     ]
    }
   ],
   "source": [
    "# Main Loop \n",
    "nodes = org.load('/home/ben/workbench/org/inbox.org') \n",
    "for node in nodes.children:  \n",
    "\n",
    "    # \n"
   ]
  },
  {
   "cell_type": "code",
   "execution_count": null,
   "id": "ca85b0cc-f984-44ee-882c-317d474b1863",
   "metadata": {},
   "outputs": [],
   "source": []
  }
 ],
 "metadata": {
  "kernelspec": {
   "display_name": "Python 3 (ipykernel)",
   "language": "python",
   "name": "python3"
  },
  "language_info": {
   "codemirror_mode": {
    "name": "ipython",
    "version": 3
   },
   "file_extension": ".py",
   "mimetype": "text/x-python",
   "name": "python",
   "nbconvert_exporter": "python",
   "pygments_lexer": "ipython3",
   "version": "3.12.3"
  }
 },
 "nbformat": 4,
 "nbformat_minor": 5
}
